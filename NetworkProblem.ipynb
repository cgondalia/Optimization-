{
  "nbformat": 4,
  "nbformat_minor": 0,
  "metadata": {
    "colab": {
      "name": "NetworkProblem.ipynb",
      "provenance": []
    },
    "kernelspec": {
      "name": "python3",
      "display_name": "Python 3"
    },
    "language_info": {
      "name": "python"
    }
  },
  "cells": [
    {
      "cell_type": "code",
      "metadata": {
        "colab": {
          "base_uri": "https://localhost:8080/",
          "height": 505
        },
        "id": "SraNBC49mYC2",
        "outputId": "9cdae034-e830-4703-de11-8a0cbb864c65"
      },
      "source": [
        "!pip install ortools "
      ],
      "execution_count": 1,
      "outputs": [
        {
          "output_type": "stream",
          "name": "stdout",
          "text": [
            "Collecting ortools\n",
            "  Downloading ortools-9.1.9490-cp37-cp37m-manylinux_2_17_x86_64.manylinux2014_x86_64.whl (14.5 MB)\n",
            "\u001b[K     |████████████████████████████████| 14.5 MB 4.3 MB/s \n",
            "\u001b[?25hCollecting protobuf>=3.18.0\n",
            "  Downloading protobuf-3.19.1-cp37-cp37m-manylinux_2_17_x86_64.manylinux2014_x86_64.whl (1.1 MB)\n",
            "\u001b[K     |████████████████████████████████| 1.1 MB 43.5 MB/s \n",
            "\u001b[?25hCollecting absl-py>=0.13\n",
            "  Downloading absl_py-1.0.0-py3-none-any.whl (126 kB)\n",
            "\u001b[K     |████████████████████████████████| 126 kB 39.8 MB/s \n",
            "\u001b[?25hRequirement already satisfied: six in /usr/local/lib/python3.7/dist-packages (from absl-py>=0.13->ortools) (1.15.0)\n",
            "Installing collected packages: protobuf, absl-py, ortools\n",
            "  Attempting uninstall: protobuf\n",
            "    Found existing installation: protobuf 3.17.3\n",
            "    Uninstalling protobuf-3.17.3:\n",
            "      Successfully uninstalled protobuf-3.17.3\n",
            "  Attempting uninstall: absl-py\n",
            "    Found existing installation: absl-py 0.12.0\n",
            "    Uninstalling absl-py-0.12.0:\n",
            "      Successfully uninstalled absl-py-0.12.0\n",
            "\u001b[31mERROR: pip's dependency resolver does not currently take into account all the packages that are installed. This behaviour is the source of the following dependency conflicts.\n",
            "tensorflow-metadata 1.4.0 requires absl-py<0.13,>=0.9, but you have absl-py 1.0.0 which is incompatible.\u001b[0m\n",
            "Successfully installed absl-py-1.0.0 ortools-9.1.9490 protobuf-3.19.1\n"
          ]
        },
        {
          "output_type": "display_data",
          "data": {
            "application/vnd.colab-display-data+json": {
              "pip_warning": {
                "packages": [
                  "google"
                ]
              }
            }
          },
          "metadata": {}
        }
      ]
    },
    {
      "cell_type": "code",
      "metadata": {
        "id": "oPKnPjfomVI_"
      },
      "source": [
        "from ortools.graph import pywrapgraph"
      ],
      "execution_count": 2,
      "outputs": []
    },
    {
      "cell_type": "code",
      "metadata": {
        "colab": {
          "base_uri": "https://localhost:8080/"
        },
        "id": "m0Qz93h2mT3S",
        "outputId": "4e60e368-0a91-4ef1-ae86-13c3afb7de4e"
      },
      "source": [
        "\"\"\"Linear assignment example.\"\"\"\n",
        "\n",
        "def main():\n",
        "    \"\"\"Solving an Assignment Problem with MinCostFlow.\"\"\"\n",
        "    # Instantiate a SimpleMinCostFlow solver.\n",
        "    min_cost_flow = pywrapgraph.SimpleMinCostFlow()\n",
        "\n",
        "    # Define the directed graph for the flow.\n",
        "    start_nodes = [0, 0, 0] + [\n",
        "        1, 1, 1, 2, 2, 2, 3, 3, 3\n",
        "    ] + [4, 5, 6]\n",
        "    end_nodes = [1, 2, 3] + [4,5, 6, 4, 5, 6, 4, 5, 6 \n",
        "                               ] + [7,7,7]\n",
        "    capacities = [1, 1, 1] + [\n",
        "        1, 1, 1,  1, 1, 1, 1, 1, 1\n",
        "    ] + [1, 1, 1]\n",
        "    costs = (\n",
        "        [0, 0, 0] +\n",
        "        [19,30,46,98,88,72,58,77,89] +\n",
        "        [0, 0, 0])\n",
        "\n",
        "    source = 0\n",
        "    sink = 7\n",
        "    tasks = 3\n",
        "    supplies = [tasks, 0, 0, 0, 0, 0, 0, -tasks]\n",
        "\n",
        "    # Add each arc.\n",
        "    for i in range(len(start_nodes)):\n",
        "        min_cost_flow.AddArcWithCapacityAndUnitCost(start_nodes[i],\n",
        "                                                    end_nodes[i], capacities[i],\n",
        "                                                    costs[i])\n",
        "    # Add node supplies.\n",
        "    for i in range(len(supplies)):\n",
        "        min_cost_flow.SetNodeSupply(i, supplies[i])\n",
        "\n",
        "    # Find the minimum cost flow between node 0 and node 10.\n",
        "    status = min_cost_flow.Solve()\n",
        "\n",
        "    if status == min_cost_flow.OPTIMAL:\n",
        "        print('Total cost = ', min_cost_flow.OptimalCost())\n",
        "        print()\n",
        "        for arc in range(min_cost_flow.NumArcs()):\n",
        "            # Can ignore arcs leading out of source or into sink.\n",
        "            if min_cost_flow.Tail(arc) != source and min_cost_flow.Head(\n",
        "                    arc) != sink:\n",
        "\n",
        "                # Arcs in the solution have a flow value of 1. Their start and end nodes\n",
        "                # give an assignment of worker to task.\n",
        "                if min_cost_flow.Flow(arc) > 0:\n",
        "                    print('Worker %d assigned to task %d.  Cost = %d' %\n",
        "                          (min_cost_flow.Tail(arc), min_cost_flow.Head(arc),\n",
        "                           min_cost_flow.UnitCost(arc)))\n",
        "    else:\n",
        "        print('There was an issue with the min cost flow input.')\n",
        "        print(f'Status: {status}')\n",
        "\n",
        "\n",
        "if __name__ == '__main__':\n",
        "    main()"
      ],
      "execution_count": 4,
      "outputs": [
        {
          "output_type": "stream",
          "name": "stdout",
          "text": [
            "Total cost =  160\n",
            "\n",
            "Worker 1 assigned to task 5.  Cost = 30\n",
            "Worker 2 assigned to task 6.  Cost = 72\n",
            "Worker 3 assigned to task 4.  Cost = 58\n"
          ]
        }
      ]
    },
    {
      "cell_type": "code",
      "metadata": {
        "id": "t9vZfrjIxygX"
      },
      "source": [
        ""
      ],
      "execution_count": null,
      "outputs": []
    }
  ]
}