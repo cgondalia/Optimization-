{
  "nbformat": 4,
  "nbformat_minor": 0,
  "metadata": {
    "colab": {
      "name": "LinearProgramming_MarkdownPricing.ipynb",
      "provenance": []
    },
    "kernelspec": {
      "name": "python3",
      "display_name": "Python 3"
    },
    "language_info": {
      "name": "python"
    }
  },
  "cells": [
    {
      "cell_type": "code",
      "metadata": {
        "colab": {
          "base_uri": "https://localhost:8080/"
        },
        "id": "WbPJ3uSBhmZg",
        "outputId": "9c87d2d4-6983-4675-83e8-9d3fa62afcdc"
      },
      "source": [
        "!apt-get install -y -qq glpk-utils"
      ],
      "execution_count": 9,
      "outputs": [
        {
          "output_type": "stream",
          "name": "stdout",
          "text": [
            "Selecting previously unselected package libsuitesparseconfig5:amd64.\n",
            "(Reading database ... 155222 files and directories currently installed.)\n",
            "Preparing to unpack .../libsuitesparseconfig5_1%3a5.1.2-2_amd64.deb ...\n",
            "Unpacking libsuitesparseconfig5:amd64 (1:5.1.2-2) ...\n",
            "Selecting previously unselected package libamd2:amd64.\n",
            "Preparing to unpack .../libamd2_1%3a5.1.2-2_amd64.deb ...\n",
            "Unpacking libamd2:amd64 (1:5.1.2-2) ...\n",
            "Selecting previously unselected package libcolamd2:amd64.\n",
            "Preparing to unpack .../libcolamd2_1%3a5.1.2-2_amd64.deb ...\n",
            "Unpacking libcolamd2:amd64 (1:5.1.2-2) ...\n",
            "Selecting previously unselected package libglpk40:amd64.\n",
            "Preparing to unpack .../libglpk40_4.65-1_amd64.deb ...\n",
            "Unpacking libglpk40:amd64 (4.65-1) ...\n",
            "Selecting previously unselected package glpk-utils.\n",
            "Preparing to unpack .../glpk-utils_4.65-1_amd64.deb ...\n",
            "Unpacking glpk-utils (4.65-1) ...\n",
            "Setting up libsuitesparseconfig5:amd64 (1:5.1.2-2) ...\n",
            "Setting up libcolamd2:amd64 (1:5.1.2-2) ...\n",
            "Setting up libamd2:amd64 (1:5.1.2-2) ...\n",
            "Setting up libglpk40:amd64 (4.65-1) ...\n",
            "Setting up glpk-utils (4.65-1) ...\n",
            "Processing triggers for libc-bin (2.27-3ubuntu1.3) ...\n",
            "/sbin/ldconfig.real: /usr/local/lib/python3.7/dist-packages/ideep4py/lib/libmkldnn.so.0 is not a symbolic link\n",
            "\n",
            "Processing triggers for man-db (2.8.3-2ubuntu0.1) ...\n"
          ]
        }
      ]
    },
    {
      "cell_type": "code",
      "metadata": {
        "colab": {
          "base_uri": "https://localhost:8080/"
        },
        "id": "pEBF3_JehoZg",
        "outputId": "4457e733-0214-4cb9-db54-5f581abc42c5"
      },
      "source": [
        "!pip install -q pyomo"
      ],
      "execution_count": 10,
      "outputs": [
        {
          "output_type": "stream",
          "name": "stdout",
          "text": [
            "\u001b[K     |████████████████████████████████| 9.2 MB 3.6 MB/s \n",
            "\u001b[K     |████████████████████████████████| 49 kB 4.7 MB/s \n",
            "\u001b[?25h"
          ]
        }
      ]
    },
    {
      "cell_type": "code",
      "metadata": {
        "id": "VSBUz1xMgoCw"
      },
      "source": [
        "import pandas as pd\n",
        "\n",
        "from pyomo.environ import *\n",
        "from pyomo.opt import SolverFactory"
      ],
      "execution_count": 11,
      "outputs": []
    },
    {
      "cell_type": "code",
      "metadata": {
        "colab": {
          "base_uri": "https://localhost:8080/",
          "height": 255
        },
        "id": "hGW3LZzxfk15",
        "outputId": "62a4f12f-3d00-4356-852b-f1d88d0805b5"
      },
      "source": [
        "#Load data for 200 products from a excel file\n",
        "products=pd.read_excel(open('MP_scenarios.xlsx', 'rb'),\n",
        "              sheet_name='Sheet1',index_col=0)\n",
        "products.head()"
      ],
      "execution_count": 84,
      "outputs": [
        {
          "output_type": "execute_result",
          "data": {
            "text/html": [
              "<div>\n",
              "<style scoped>\n",
              "    .dataframe tbody tr th:only-of-type {\n",
              "        vertical-align: middle;\n",
              "    }\n",
              "\n",
              "    .dataframe tbody tr th {\n",
              "        vertical-align: top;\n",
              "    }\n",
              "\n",
              "    .dataframe thead th {\n",
              "        text-align: right;\n",
              "    }\n",
              "</style>\n",
              "<table border=\"1\" class=\"dataframe\">\n",
              "  <thead>\n",
              "    <tr style=\"text-align: right;\">\n",
              "      <th></th>\n",
              "      <th>Price</th>\n",
              "      <th>Demand (0% discount)</th>\n",
              "      <th>Demand (15% discount)</th>\n",
              "      <th>Demand (30% discount)</th>\n",
              "      <th>Demand (50% discount)</th>\n",
              "      <th>Weeks Left</th>\n",
              "      <th>Inventory Remaining</th>\n",
              "      <th>Salvage Value</th>\n",
              "    </tr>\n",
              "    <tr>\n",
              "      <th>No</th>\n",
              "      <th></th>\n",
              "      <th></th>\n",
              "      <th></th>\n",
              "      <th></th>\n",
              "      <th></th>\n",
              "      <th></th>\n",
              "      <th></th>\n",
              "      <th></th>\n",
              "    </tr>\n",
              "  </thead>\n",
              "  <tbody>\n",
              "    <tr>\n",
              "      <th>1</th>\n",
              "      <td>55.48</td>\n",
              "      <td>120</td>\n",
              "      <td>160</td>\n",
              "      <td>194</td>\n",
              "      <td>223</td>\n",
              "      <td>15</td>\n",
              "      <td>1421</td>\n",
              "      <td>13.870</td>\n",
              "    </tr>\n",
              "    <tr>\n",
              "      <th>2</th>\n",
              "      <td>53.68</td>\n",
              "      <td>115</td>\n",
              "      <td>149</td>\n",
              "      <td>171</td>\n",
              "      <td>197</td>\n",
              "      <td>15</td>\n",
              "      <td>2396</td>\n",
              "      <td>13.420</td>\n",
              "    </tr>\n",
              "    <tr>\n",
              "      <th>3</th>\n",
              "      <td>61.56</td>\n",
              "      <td>140</td>\n",
              "      <td>191</td>\n",
              "      <td>207</td>\n",
              "      <td>459</td>\n",
              "      <td>15</td>\n",
              "      <td>2544</td>\n",
              "      <td>15.390</td>\n",
              "    </tr>\n",
              "    <tr>\n",
              "      <th>4</th>\n",
              "      <td>65.72</td>\n",
              "      <td>115</td>\n",
              "      <td>151</td>\n",
              "      <td>242</td>\n",
              "      <td>278</td>\n",
              "      <td>15</td>\n",
              "      <td>1316</td>\n",
              "      <td>16.430</td>\n",
              "    </tr>\n",
              "    <tr>\n",
              "      <th>5</th>\n",
              "      <td>64.98</td>\n",
              "      <td>120</td>\n",
              "      <td>173</td>\n",
              "      <td>221</td>\n",
              "      <td>335</td>\n",
              "      <td>15</td>\n",
              "      <td>1377</td>\n",
              "      <td>16.245</td>\n",
              "    </tr>\n",
              "  </tbody>\n",
              "</table>\n",
              "</div>"
            ],
            "text/plain": [
              "    Price  Demand (0% discount)  ...  Inventory Remaining  Salvage Value\n",
              "No                               ...                                    \n",
              "1   55.48                   120  ...                 1421         13.870\n",
              "2   53.68                   115  ...                 2396         13.420\n",
              "3   61.56                   140  ...                 2544         15.390\n",
              "4   65.72                   115  ...                 1316         16.430\n",
              "5   64.98                   120  ...                 1377         16.245\n",
              "\n",
              "[5 rows x 8 columns]"
            ]
          },
          "metadata": {},
          "execution_count": 84
        }
      ]
    },
    {
      "cell_type": "code",
      "metadata": {
        "id": "B9hongcLhCQy"
      },
      "source": [
        "#Write a function to solve the optimization problem \n",
        "\n",
        "def solve(price,demand,weeks,inv,sal):\n",
        "\n",
        "  n=4 #We are considering 4 different price levels \n",
        "  p=[1,0.85,0.7,0.5]\n",
        "\n",
        "  #Create a model \n",
        "  model=ConcreteModel()\n",
        "\n",
        "  #Declare 4 DVs: \n",
        "  model.x=Var(range(n), domain=NonNegativeReals)\n",
        "\n",
        "  #Declare constraints \n",
        "  model.constraint1=Constraint(expr=sum(model.x[i] for i in range(n)) <= weeks )\n",
        "  model.constraint2=Constraint(expr=sum(model.x[i]*demand[i] for i in range(n)) <= inv)\n",
        "\n",
        "  #Define Objective\n",
        "  model.Objective=Objective(expr=sum(model.x[i]*demand[i]*p[i]*price for i in range(n))+ (inv - sum(model.x[i]*demand[i]*sal for i in range(n))), sense=maximize)\n",
        "  #model.Objective=Objective(expr=sum(model.x[i]*demand[i]*p[i]*price for i in range(4)), sense=maximize) --Without salvage value \n",
        "  \n",
        "  #Solve\n",
        "  opt = SolverFactory('glpk') \n",
        "  results = opt.solve(model)\n",
        "\n",
        "  #Create a list to show weeks at each price  \n",
        "  solution=[]\n",
        "  for i in range(n):\n",
        "    solution.append(model.x[i]())\n",
        "  \n",
        "  solution.append(model.Objective())\n",
        "\n",
        "  for i in range(n):\n",
        "   if model.x[i]() != 0: \n",
        "    solution.append(p[i]*price)\n",
        "    break\n",
        "  \n",
        "  #Return  \n",
        "  return solution"
      ],
      "execution_count": 85,
      "outputs": []
    },
    {
      "cell_type": "code",
      "metadata": {
        "id": "-UsbcqWpmEo1"
      },
      "source": [
        "#Run a for loop to solve the optimization problem for all 200 products\n",
        "output=[]\n",
        "for i in range(len(products)):\n",
        "  rowdata=products.iloc[i].values.tolist()\n",
        "  price=rowdata[0]\n",
        "  demand=rowdata[1:5]\n",
        "  weeks=rowdata[5]\n",
        "  inv=rowdata[6]\n",
        "  sal=rowdata[7]\n",
        "  output.append(solve(price,demand,weeks,inv,sal))"
      ],
      "execution_count": 86,
      "outputs": []
    },
    {
      "cell_type": "code",
      "metadata": {
        "id": "IipdcTmbmQot"
      },
      "source": [
        "#Create 3 different lists for each required output measure\n",
        "num_week=[]\n",
        "for i in output: \n",
        "  num_week.append(i[0:4])\n",
        "\n",
        "revenue=[]\n",
        "for i in output: \n",
        "  revenue.append(i[4])\n",
        "\n",
        "current_price=[]\n",
        "for i in output: \n",
        "  current_price.append(i[5])"
      ],
      "execution_count": 87,
      "outputs": []
    },
    {
      "cell_type": "code",
      "metadata": {
        "colab": {
          "base_uri": "https://localhost:8080/",
          "height": 379
        },
        "id": "n3YvO6bBsUiH",
        "outputId": "5127cad0-14eb-4514-cd9c-33992b59b0ff"
      },
      "source": [
        "#Add the 3 lists to products\n",
        "products[\"Number of Weeks\"]=num_week\n",
        "products[\"Projected Revenue\"]=revenue\n",
        "products[\"Current Price\"]=current_price\n",
        "products.head()"
      ],
      "execution_count": 88,
      "outputs": [
        {
          "output_type": "execute_result",
          "data": {
            "text/html": [
              "<div>\n",
              "<style scoped>\n",
              "    .dataframe tbody tr th:only-of-type {\n",
              "        vertical-align: middle;\n",
              "    }\n",
              "\n",
              "    .dataframe tbody tr th {\n",
              "        vertical-align: top;\n",
              "    }\n",
              "\n",
              "    .dataframe thead th {\n",
              "        text-align: right;\n",
              "    }\n",
              "</style>\n",
              "<table border=\"1\" class=\"dataframe\">\n",
              "  <thead>\n",
              "    <tr style=\"text-align: right;\">\n",
              "      <th></th>\n",
              "      <th>Price</th>\n",
              "      <th>Demand (0% discount)</th>\n",
              "      <th>Demand (15% discount)</th>\n",
              "      <th>Demand (30% discount)</th>\n",
              "      <th>Demand (50% discount)</th>\n",
              "      <th>Weeks Left</th>\n",
              "      <th>Inventory Remaining</th>\n",
              "      <th>Salvage Value</th>\n",
              "      <th>Number of Weeks</th>\n",
              "      <th>Projected Revenue</th>\n",
              "      <th>Current Price</th>\n",
              "    </tr>\n",
              "    <tr>\n",
              "      <th>No</th>\n",
              "      <th></th>\n",
              "      <th></th>\n",
              "      <th></th>\n",
              "      <th></th>\n",
              "      <th></th>\n",
              "      <th></th>\n",
              "      <th></th>\n",
              "      <th></th>\n",
              "      <th></th>\n",
              "      <th></th>\n",
              "      <th></th>\n",
              "    </tr>\n",
              "  </thead>\n",
              "  <tbody>\n",
              "    <tr>\n",
              "      <th>1</th>\n",
              "      <td>55.48</td>\n",
              "      <td>120</td>\n",
              "      <td>160</td>\n",
              "      <td>194</td>\n",
              "      <td>223</td>\n",
              "      <td>15</td>\n",
              "      <td>1421</td>\n",
              "      <td>13.870</td>\n",
              "      <td>[11.8416666666667, 0.0, 0.0, 0.0]</td>\n",
              "      <td>60548.810000</td>\n",
              "      <td>55.480</td>\n",
              "    </tr>\n",
              "    <tr>\n",
              "      <th>2</th>\n",
              "      <td>53.68</td>\n",
              "      <td>115</td>\n",
              "      <td>149</td>\n",
              "      <td>171</td>\n",
              "      <td>197</td>\n",
              "      <td>15</td>\n",
              "      <td>2396</td>\n",
              "      <td>13.420</td>\n",
              "      <td>[0.0, 15.0, 0.0, 0.0]</td>\n",
              "      <td>74380.880000</td>\n",
              "      <td>45.628</td>\n",
              "    </tr>\n",
              "    <tr>\n",
              "      <th>3</th>\n",
              "      <td>61.56</td>\n",
              "      <td>140</td>\n",
              "      <td>191</td>\n",
              "      <td>207</td>\n",
              "      <td>459</td>\n",
              "      <td>15</td>\n",
              "      <td>2544</td>\n",
              "      <td>15.390</td>\n",
              "      <td>[6.29411764705882, 8.70588235294118, 0.0, 0.0]</td>\n",
              "      <td>104645.967529</td>\n",
              "      <td>61.560</td>\n",
              "    </tr>\n",
              "    <tr>\n",
              "      <th>4</th>\n",
              "      <td>65.72</td>\n",
              "      <td>115</td>\n",
              "      <td>151</td>\n",
              "      <td>242</td>\n",
              "      <td>278</td>\n",
              "      <td>15</td>\n",
              "      <td>1316</td>\n",
              "      <td>16.430</td>\n",
              "      <td>[11.4434782608696, 0.0, 0.0, 0.0]</td>\n",
              "      <td>66181.640000</td>\n",
              "      <td>65.720</td>\n",
              "    </tr>\n",
              "    <tr>\n",
              "      <th>5</th>\n",
              "      <td>64.98</td>\n",
              "      <td>120</td>\n",
              "      <td>173</td>\n",
              "      <td>221</td>\n",
              "      <td>335</td>\n",
              "      <td>15</td>\n",
              "      <td>1377</td>\n",
              "      <td>16.245</td>\n",
              "      <td>[11.475, 0.0, 0.0, 0.0]</td>\n",
              "      <td>68485.095000</td>\n",
              "      <td>64.980</td>\n",
              "    </tr>\n",
              "  </tbody>\n",
              "</table>\n",
              "</div>"
            ],
            "text/plain": [
              "    Price  Demand (0% discount)  ...  Projected Revenue  Current Price\n",
              "No                               ...                                  \n",
              "1   55.48                   120  ...       60548.810000         55.480\n",
              "2   53.68                   115  ...       74380.880000         45.628\n",
              "3   61.56                   140  ...      104645.967529         61.560\n",
              "4   65.72                   115  ...       66181.640000         65.720\n",
              "5   64.98                   120  ...       68485.095000         64.980\n",
              "\n",
              "[5 rows x 11 columns]"
            ]
          },
          "metadata": {},
          "execution_count": 88
        }
      ]
    },
    {
      "cell_type": "code",
      "metadata": {
        "id": "bFIyDTI9sy83"
      },
      "source": [
        "#Store as a csv\n",
        "products.to_csv(\"P2_Chelsi_Gondalia.csv\",index=False)"
      ],
      "execution_count": 89,
      "outputs": []
    },
    {
      "cell_type": "code",
      "metadata": {
        "id": "7xHrIdE7u4kC"
      },
      "source": [
        ""
      ],
      "execution_count": null,
      "outputs": []
    }
  ]
}