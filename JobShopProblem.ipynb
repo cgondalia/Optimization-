{
  "nbformat": 4,
  "nbformat_minor": 0,
  "metadata": {
    "colab": {
      "name": "JobShopProblem.ipynb",
      "provenance": []
    },
    "kernelspec": {
      "name": "python3",
      "display_name": "Python 3"
    },
    "language_info": {
      "name": "python"
    }
  },
  "cells": [
    {
      "cell_type": "code",
      "metadata": {
        "colab": {
          "base_uri": "https://localhost:8080/"
        },
        "id": "O2KkeWD4Wmba",
        "outputId": "53b4a347-5736-4093-ca44-362ff536394e"
      },
      "source": [
        "!pip install ortools"
      ],
      "execution_count": 1,
      "outputs": [
        {
          "output_type": "stream",
          "name": "stdout",
          "text": [
            "Requirement already satisfied: ortools in /usr/local/lib/python3.7/dist-packages (9.1.9490)\n",
            "Requirement already satisfied: absl-py>=0.13 in /usr/local/lib/python3.7/dist-packages (from ortools) (1.0.0)\n",
            "Requirement already satisfied: protobuf>=3.18.0 in /usr/local/lib/python3.7/dist-packages (from ortools) (3.19.1)\n",
            "Requirement already satisfied: six in /usr/local/lib/python3.7/dist-packages (from absl-py>=0.13->ortools) (1.15.0)\n"
          ]
        }
      ]
    },
    {
      "cell_type": "code",
      "metadata": {
        "id": "OIai7cQqWqry"
      },
      "source": [
        "import pandas as pd\n",
        "from ortools.constraint_solver import routing_enums_pb2\n",
        "from ortools.constraint_solver import pywrapcp"
      ],
      "execution_count": 2,
      "outputs": []
    },
    {
      "cell_type": "code",
      "metadata": {
        "id": "1g-FXEmQWsjM"
      },
      "source": [
        "df=pd.read_excel(open('P4_JobShopData.xlsx', 'rb'),\n",
        "              sheet_name='Sheet1')\n",
        "\n",
        "df.head()\n",
        "df=df.drop('Order', axis=1)"
      ],
      "execution_count": 3,
      "outputs": []
    },
    {
      "cell_type": "code",
      "metadata": {
        "colab": {
          "base_uri": "https://localhost:8080/"
        },
        "id": "nTkKaUBrnJpO",
        "outputId": "b1419809-3bf0-44e9-b64f-bbde7d6663a6"
      },
      "source": [
        "#Convert the data into a list of tuples\n",
        "result =[tuple(x) for x in df.values.tolist()]\n",
        "print(result)"
      ],
      "execution_count": 19,
      "outputs": [
        {
          "output_type": "stream",
          "name": "stdout",
          "text": [
            "[(0, 5, 22), (0, 4, 29), (0, 2, 11), (0, 1, 20), (1, 6, 36), (1, 1, 20), (1, 4, 31), (2, 2, 20), (2, 3, 20), (2, 4, 46), (2, 1, 20), (2, 0, 5), (3, 4, 42), (3, 3, 16), (4, 1, 11), (4, 0, 2), (4, 3, 3), (4, 6, 19), (5, 6, 21), (5, 0, 4), (5, 1, 14), (5, 3, 19), (5, 2, 23), (6, 0, 9), (6, 3, 29), (6, 4, 23), (7, 3, 27), (7, 5, 39), (7, 6, 31), (8, 2, 28), (8, 4, 47), (9, 2, 30), (9, 5, 23), (9, 3, 29), (9, 1, 20), (9, 0, 4), (10, 0, 8), (10, 2, 21), (10, 3, 4), (10, 6, 33), (10, 1, 18), (10, 5, 7), (11, 2, 12), (11, 3, 30), (11, 4, 42), (11, 5, 36), (12, 0, 1), (12, 1, 14), (12, 2, 18), (12, 3, 40), (13, 4, 48), (13, 5, 1), (13, 3, 25), (13, 2, 15), (13, 1, 20), (14, 5, 6), (14, 2, 11), (15, 0, 10), (16, 5, 14), (16, 2, 30), (16, 3, 10), (17, 1, 19), (17, 2, 13), (17, 3, 40), (17, 6, 14), (17, 4, 14), (18, 2, 22), (18, 6, 11), (18, 5, 33), (18, 1, 19), (18, 0, 5), (19, 4, 25), (19, 5, 1), (19, 6, 13)]\n"
          ]
        }
      ]
    },
    {
      "cell_type": "code",
      "metadata": {
        "id": "Q56oekwSoJ6-"
      },
      "source": [
        "#Arrange tuples into a list by Order and then element Order number\n",
        "r=[[],[],[],[],[],[],[],[],[],[],[],[],[],[],[],[],[],[],[],[]]\n",
        "x=list(range(0,20))\n",
        "for j in range(len(x)):\n",
        "  for i in range(len(df)):\n",
        "    if result[i][0]==x[j]:\n",
        "      r[j].append(result[i][1:])"
      ],
      "execution_count": 20,
      "outputs": []
    },
    {
      "cell_type": "code",
      "metadata": {
        "colab": {
          "base_uri": "https://localhost:8080/"
        },
        "id": "hO5iZjPyoehQ",
        "outputId": "8f745322-f127-40dc-954e-b458541f51a4"
      },
      "source": [
        "#Preview the resulting list of list of tuples arranged as (m,p)\n",
        "r"
      ],
      "execution_count": 21,
      "outputs": [
        {
          "output_type": "execute_result",
          "data": {
            "text/plain": [
              "[[(5, 22), (4, 29), (2, 11), (1, 20)],\n",
              " [(6, 36), (1, 20), (4, 31)],\n",
              " [(2, 20), (3, 20), (4, 46), (1, 20), (0, 5)],\n",
              " [(4, 42), (3, 16)],\n",
              " [(1, 11), (0, 2), (3, 3), (6, 19)],\n",
              " [(6, 21), (0, 4), (1, 14), (3, 19), (2, 23)],\n",
              " [(0, 9), (3, 29), (4, 23)],\n",
              " [(3, 27), (5, 39), (6, 31)],\n",
              " [(2, 28), (4, 47)],\n",
              " [(2, 30), (5, 23), (3, 29), (1, 20), (0, 4)],\n",
              " [(0, 8), (2, 21), (3, 4), (6, 33), (1, 18), (5, 7)],\n",
              " [(2, 12), (3, 30), (4, 42), (5, 36)],\n",
              " [(0, 1), (1, 14), (2, 18), (3, 40)],\n",
              " [(4, 48), (5, 1), (3, 25), (2, 15), (1, 20)],\n",
              " [(5, 6), (2, 11)],\n",
              " [(0, 10)],\n",
              " [(5, 14), (2, 30), (3, 10)],\n",
              " [(1, 19), (2, 13), (3, 40), (6, 14), (4, 14)],\n",
              " [(2, 22), (6, 11), (5, 33), (1, 19), (0, 5)],\n",
              " [(4, 25), (5, 1), (6, 13)]]"
            ]
          },
          "metadata": {},
          "execution_count": 21
        }
      ]
    },
    {
      "cell_type": "code",
      "metadata": {
        "id": "iZaFGj4jqZv3"
      },
      "source": [
        ""
      ],
      "execution_count": null,
      "outputs": []
    },
    {
      "cell_type": "code",
      "metadata": {
        "colab": {
          "base_uri": "https://localhost:8080/"
        },
        "id": "lBgbgs9gOJ1b",
        "outputId": "6d7829d7-8d1a-49d4-ae17-866f8e3cefbe"
      },
      "source": [
        "\"\"\"Minimal jobshop example.\"\"\"\n",
        "import collections\n",
        "from ortools.sat.python import cp_model\n",
        "\n",
        "\n",
        "def main():\n",
        "    \"\"\"Minimal jobshop problem.\"\"\"\n",
        "    # Data.\n",
        "    jobs_data = r # task = (machine_id, processing_time).\n",
        "      \n",
        "    machines_count = 1 + max(task[0] for job in jobs_data for task in job)\n",
        "    all_machines = range(machines_count)\n",
        "    # Computes horizon dynamically as the sum of all durations.\n",
        "    horizon = sum(task[1] for job in jobs_data for task in job)\n",
        "\n",
        "    # Create the model.\n",
        "    model = cp_model.CpModel()\n",
        "\n",
        "    # Named tuple to store information about created variables.\n",
        "    task_type = collections.namedtuple('task_type', 'start end interval')\n",
        "    # Named tuple to manipulate solution information.\n",
        "    assigned_task_type = collections.namedtuple('assigned_task_type',\n",
        "                                                'start job index duration')\n",
        "\n",
        "    # Creates job intervals and add to the corresponding machine lists.\n",
        "    all_tasks = {}\n",
        "    machine_to_intervals = collections.defaultdict(list)\n",
        "\n",
        "    for job_id, job in enumerate(jobs_data):\n",
        "        for task_id, task in enumerate(job):\n",
        "            machine = task[0]\n",
        "            duration = task[1]\n",
        "            suffix = '_%i_%i' % (job_id, task_id)\n",
        "            start_var = model.NewIntVar(0, horizon, 'start' + suffix)\n",
        "            end_var = model.NewIntVar(0, horizon, 'end' + suffix)\n",
        "            interval_var = model.NewIntervalVar(start_var, duration, end_var,\n",
        "                                                'interval' + suffix)\n",
        "            all_tasks[job_id, task_id] = task_type(start=start_var,\n",
        "                                                   end=end_var,\n",
        "                                                   interval=interval_var)\n",
        "            machine_to_intervals[machine].append(interval_var)\n",
        "\n",
        "    # Create and add disjunctive constraints.\n",
        "    for machine in all_machines:\n",
        "        model.AddNoOverlap(machine_to_intervals[machine])\n",
        "\n",
        "    # Precedences inside a job.\n",
        "    for job_id, job in enumerate(jobs_data):\n",
        "        for task_id in range(len(job) - 1):\n",
        "            model.Add(all_tasks[job_id, task_id +\n",
        "                                1].start >= all_tasks[job_id, task_id].end)\n",
        "\n",
        "    # Makespan objective.\n",
        "    obj_var = model.NewIntVar(0, horizon, 'makespan')\n",
        "    model.AddMaxEquality(obj_var, [\n",
        "        all_tasks[job_id, len(job) - 1].end\n",
        "        for job_id, job in enumerate(jobs_data)\n",
        "    ])\n",
        "    model.Minimize(obj_var)\n",
        "\n",
        "    # Creates the solver and solve.\n",
        "    solver = cp_model.CpSolver()\n",
        "    status = solver.Solve(model)\n",
        "\n",
        "    if status == cp_model.OPTIMAL or status == cp_model.FEASIBLE:\n",
        "        print('Solution:')\n",
        "        # Create one list of assigned tasks per machine.\n",
        "        assigned_jobs = collections.defaultdict(list)\n",
        "        for job_id, job in enumerate(jobs_data):\n",
        "            for task_id, task in enumerate(job):\n",
        "                machine = task[0]\n",
        "                assigned_jobs[machine].append(\n",
        "                    assigned_task_type(start=solver.Value(\n",
        "                        all_tasks[job_id, task_id].start),\n",
        "                                       job=job_id,\n",
        "                                       index=task_id,\n",
        "                                       duration=task[1]))\n",
        "\n",
        "        # Create per machine output lines.\n",
        "        output = ''\n",
        "        for machine in all_machines:\n",
        "            # Sort by starting time.\n",
        "            assigned_jobs[machine].sort()\n",
        "            sol_line_tasks = 'Machine ' + str(machine) + ': '\n",
        "            sol_line = '           '\n",
        "\n",
        "            for assigned_task in assigned_jobs[machine]:\n",
        "                name = 'job_%i_task_%i' % (assigned_task.job,\n",
        "                                           assigned_task.index)\n",
        "                # Add spaces to output to align columns.\n",
        "                sol_line_tasks += '%-15s' % name\n",
        "\n",
        "                start = assigned_task.start\n",
        "                duration = assigned_task.duration\n",
        "                sol_tmp = '[%i,%i]' % (start, start + duration)\n",
        "                # Add spaces to output to align columns.\n",
        "                sol_line += '%-15s' % sol_tmp\n",
        "\n",
        "            sol_line += '\\n'\n",
        "            sol_line_tasks += '\\n'\n",
        "            output += sol_line_tasks\n",
        "            output += sol_line\n",
        "\n",
        "        # Finally print the solution found.\n",
        "        print(f'Optimal Schedule Length: {solver.ObjectiveValue()}')\n",
        "        print(output)\n",
        "    else:\n",
        "        print('No solution found.')\n",
        "\n",
        "    # Statistics.\n",
        "    print('\\nStatistics')\n",
        "    print('  - conflicts: %i' % solver.NumConflicts())\n",
        "    print('  - branches : %i' % solver.NumBranches())\n",
        "    print('  - wall time: %f s' % solver.WallTime())\n",
        "\n",
        "\n",
        "if __name__ == '__main__':\n",
        "    main()"
      ],
      "execution_count": 22,
      "outputs": [
        {
          "output_type": "stream",
          "name": "stdout",
          "text": [
            "Solution:\n",
            "Optimal Schedule Length: 347.0\n",
            "Machine 0: job_12_task_0  job_10_task_0  job_6_task_0   job_4_task_1   job_15_task_0  job_5_task_1   job_18_task_4  job_2_task_4   job_9_task_4   \n",
            "           [0,1]          [1,9]          [9,18]         [18,20]        [20,30]        [30,34]        [208,213]      [258,263]      [304,308]      \n",
            "Machine 1: job_4_task_0   job_12_task_1  job_17_task_0  job_5_task_2   job_1_task_1   job_0_task_3   job_10_task_4  job_18_task_3  job_2_task_3   job_9_task_3   job_13_task_4  \n",
            "           [0,11]         [11,25]        [25,44]        [44,58]        [58,78]        [151,171]      [171,189]      [189,208]      [238,258]      [284,304]      [327,347]      \n",
            "Machine 2: job_11_task_0  job_14_task_1  job_2_task_0   job_12_task_2  job_17_task_1  job_10_task_1  job_18_task_0  job_5_task_4   job_0_task_2   job_8_task_0   job_9_task_0   job_16_task_1  job_13_task_3  \n",
            "           [0,12]         [12,23]        [23,43]        [43,61]        [61,74]        [74,95]        [95,117]       [117,140]      [140,151]      [151,179]      [179,209]      [209,239]      [312,327]      \n",
            "Machine 3: job_7_task_0   job_4_task_2   job_6_task_1   job_5_task_3   job_3_task_1   job_2_task_1   job_10_task_2  job_11_task_1  job_12_task_3  job_17_task_2  job_16_task_2  job_9_task_2   job_13_task_2  \n",
            "           [0,27]         [27,30]        [30,59]        [59,78]        [78,94]        [94,114]       [114,118]      [118,148]      [148,188]      [188,228]      [239,249]      [255,284]      [287,312]      \n",
            "Machine 4: job_19_task_0  job_3_task_0   job_6_task_2   job_0_task_1   job_1_task_2   job_11_task_2  job_2_task_2   job_13_task_0  job_17_task_4  job_8_task_1   \n",
            "           [0,25]         [25,67]        [67,90]        [90,119]       [119,150]      [150,192]      [192,238]      [238,286]      [286,300]      [300,347]      \n",
            "Machine 5: job_14_task_0  job_16_task_0  job_0_task_0   job_19_task_1  job_7_task_1   job_18_task_2  job_10_task_5  job_11_task_3  job_9_task_1   job_13_task_1  \n",
            "           [0,6]          [6,20]         [20,42]        [42,43]        [43,82]        [131,164]      [189,196]      [196,232]      [232,255]      [286,287]      \n",
            "Machine 6: job_5_task_0   job_1_task_0   job_19_task_2  job_4_task_3   job_7_task_2   job_18_task_1  job_10_task_3  job_17_task_3  \n",
            "           [0,21]         [21,57]        [57,70]        [70,89]        [89,120]       [120,131]      [131,164]      [228,242]      \n",
            "\n",
            "\n",
            "Statistics\n",
            "  - conflicts: 2\n",
            "  - branches : 188\n",
            "  - wall time: 0.020629 s\n"
          ]
        }
      ]
    }
  ]
}